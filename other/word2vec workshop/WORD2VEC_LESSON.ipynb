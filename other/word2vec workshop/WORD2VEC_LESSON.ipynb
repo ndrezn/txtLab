{
 "cells": [
  {
   "cell_type": "code",
   "execution_count": 2,
   "metadata": {},
   "outputs": [
    {
     "name": "stdout",
     "output_type": "stream",
     "text": [
      "Populating the interactive namespace from numpy and matplotlib\n"
     ]
    }
   ],
   "source": [
    "# Imports\n",
    "\n",
    "import numpy as np\n",
    "from scipy.spatial.distance import cosine\n",
    "import gensim\n",
    "import nltk\n",
    "import pandas as pd\n",
    "import codecs\n",
    "import re\n",
    "from nltk.tokenize import sent_tokenize\n",
    "\n",
    "# Visualization\n",
    "%pylab inline\n",
    "matplotlib.style.use('ggplot')"
   ]
  },
  {
   "cell_type": "code",
   "execution_count": 60,
   "metadata": {},
   "outputs": [
    {
     "data": {
      "text/plain": [
       "(1104, 9)"
      ]
     },
     "execution_count": 60,
     "metadata": {},
     "output_type": "execute_result"
    }
   ],
   "source": [
    "# Get metadata\n",
    "\n",
    "path = '/Users/richardjeanso/Dropbox/PYTHON_LESSONS/SAMPLE_DATA/'\n",
    "\n",
    "meta1 = pd.read_csv(path +'MassesData.csv', encoding='latin1')\n",
    "meta2 = pd.read_csv(path +'OthersData.csv', encoding='latin1')\n",
    "\n",
    "meta = pd.concat([meta1, meta2])\n",
    "meta = meta.dropna(axis=0, subset=['FILENAME'])\n",
    "meta.shape"
   ]
  },
  {
   "cell_type": "code",
   "execution_count": 9,
   "metadata": {},
   "outputs": [],
   "source": [
    "# Set corpus path\n",
    "\n",
    "corpus = '/Users/richardjeanso/Dropbox/PYTHON_LESSONS/SAMPLE_DATA/ALL_TEXTS/'"
   ]
  },
  {
   "cell_type": "code",
   "execution_count": 10,
   "metadata": {},
   "outputs": [],
   "source": [
    "# Create empty list, entries will be list of tokens from each novel\n",
    "\n",
    "text_list = []\n",
    "\n",
    "# Iterate through filenames in metadata table\n",
    "for filename in meta['FILENAME']:\n",
    "    \n",
    "    # Read in novel text as single string, make lowercase\n",
    "    with open(corpus + filename, 'r') as file_in:\n",
    "        text = file_in.read()\n",
    "    \n",
    "    # Add novel text as single string to master list\n",
    "    text_list.append(text)"
   ]
  },
  {
   "cell_type": "code",
   "execution_count": 12,
   "metadata": {},
   "outputs": [
    {
     "name": "stdout",
     "output_type": "stream",
     "text": [
      "[nltk_data] Downloading package punkt to\n",
      "[nltk_data]     /Users/richardjeanso/nltk_data...\n",
      "[nltk_data]   Package punkt is already up-to-date!\n"
     ]
    }
   ],
   "source": [
    "# Sentence Tokenize (word2vec takes sentences)\n",
    "\n",
    "import nltk\n",
    "nltk.download('punkt')\n",
    "sentences = [sentence for novel in text_list for sentence in sent_tokenize(novel)]"
   ]
  },
  {
   "cell_type": "code",
   "execution_count": 13,
   "metadata": {},
   "outputs": [],
   "source": [
    "# Fast, bespoke tokenizer for large corpus; can use more standard spacy or NLTK word tokenizer tho\n",
    "\n",
    "def fast_tokenize(text):\n",
    "    \n",
    "    # Get a list of punctuation marks\n",
    "    from string import punctuation\n",
    "    \n",
    "    # Iterate through text removing punctuation characters\n",
    "    no_punct = \"\".join([char for char in text if char not in punctuation])\n",
    "    \n",
    "    # Split text over whitespace into list of words\n",
    "    tokens = no_punct.split()\n",
    "    \n",
    "    return tokens"
   ]
  },
  {
   "cell_type": "code",
   "execution_count": 14,
   "metadata": {},
   "outputs": [],
   "source": [
    "# Word tokenize\n",
    "\n",
    "words_by_sentence = [fast_tokenize(sentence.lower()) for sentence in sentences]"
   ]
  },
  {
   "cell_type": "code",
   "execution_count": 15,
   "metadata": {},
   "outputs": [
    {
     "data": {
      "text/plain": [
       "(['when',\n",
       "  'with',\n",
       "  'being',\n",
       "  'slave',\n",
       "  'and',\n",
       "  'chattel',\n",
       "  'for',\n",
       "  'a',\n",
       "  'pittance',\n",
       "  'we',\n",
       "  'have',\n",
       "  'done',\n",
       "  'who',\n",
       "  'can',\n",
       "  'blame',\n",
       "  'if',\n",
       "  'we',\n",
       "  'give',\n",
       "  'battle'],\n",
       " 9118)"
      ]
     },
     "execution_count": 15,
     "metadata": {},
     "output_type": "execute_result"
    }
   ],
   "source": [
    "# Inspect # Sanity check\n",
    "\n",
    "words_by_sentence[5], len(words_by_sentence)"
   ]
  },
  {
   "cell_type": "code",
   "execution_count": 16,
   "metadata": {},
   "outputs": [],
   "source": [
    "# Train word2vec using CBOW\n",
    "\n",
    "model = gensim.models.Word2Vec(words_by_sentence, size=100, window=5, \\\n",
    "                               min_count=5, sg=0, alpha=0.025, iter=5, batch_words=10000)"
   ]
  },
  {
   "cell_type": "code",
   "execution_count": 18,
   "metadata": {},
   "outputs": [
    {
     "name": "stderr",
     "output_type": "stream",
     "text": [
      "/anaconda3/lib/python3.6/site-packages/ipykernel_launcher.py:4: DeprecationWarning: Call to deprecated `__getitem__` (Method will be removed in 4.0.0, use self.wv.__getitem__() instead).\n",
      "  after removing the cwd from sys.path.\n"
     ]
    },
    {
     "data": {
      "text/plain": [
       "array([-0.18220739, -0.5330057 , -0.29545277,  0.52594405,  0.55713624,\n",
       "       -0.32697704, -0.36565423,  0.07857091, -0.6932596 ,  0.23477742,\n",
       "       -0.57711077,  0.42198455, -0.52126384, -0.2807096 ,  0.21949641,\n",
       "       -0.53564405,  0.25881675, -0.25328818,  0.21806511,  0.5272984 ,\n",
       "        0.29666764, -0.0031026 ,  0.18180159, -0.236805  ,  0.81000096,\n",
       "       -0.02492139, -0.16814825, -0.10252362,  0.19752069,  0.28249353,\n",
       "        0.2870507 , -0.5749196 ,  0.05881225, -0.565983  ,  0.21400659,\n",
       "        0.26381513,  0.08083224,  0.5711262 , -0.13825275, -0.09203076,\n",
       "        0.29212016, -0.11473192,  0.175581  ,  0.27535483, -0.85696733,\n",
       "       -0.1718308 , -0.19444372, -0.30968744,  0.10746454,  0.25875354,\n",
       "       -0.21433783, -0.5969341 ,  0.06122046,  0.21232823,  0.2272551 ,\n",
       "        0.04055531,  0.27354684,  0.31311822, -0.24087726,  0.00205081,\n",
       "       -0.3026511 , -0.10423338, -0.27222586, -0.29031384,  0.31910214,\n",
       "       -0.19837844, -0.3563412 ,  0.10090877, -0.17502922, -0.35271615,\n",
       "        0.51963055,  0.06973031,  0.14329377,  0.67860293, -0.24221544,\n",
       "       -0.47016236, -0.24347667, -0.5714686 , -0.38434082, -0.6898303 ,\n",
       "        0.54037434,  0.26679853,  0.02013438,  0.04510495, -0.08839099,\n",
       "       -0.03248606, -0.63050085,  0.23289074,  0.53498495,  0.30397016,\n",
       "        0.45515147,  0.0784605 ,  0.3241501 , -0.16042821,  0.10683959,\n",
       "        0.20684491, -0.24443682, -0.05152151,  0.13956785,  0.0247399 ],\n",
       "      dtype=float32)"
      ]
     },
     "execution_count": 18,
     "metadata": {},
     "output_type": "execute_result"
    }
   ],
   "source": [
    "##### OK model is trained, let's use it to explore our corpus\n",
    "\n",
    "# Return dense word vector\n",
    "model['man']"
   ]
  },
  {
   "cell_type": "code",
   "execution_count": 19,
   "metadata": {},
   "outputs": [
    {
     "name": "stderr",
     "output_type": "stream",
     "text": [
      "/anaconda3/lib/python3.6/site-packages/ipykernel_launcher.py:3: DeprecationWarning: Call to deprecated `similarity` (Method will be removed in 4.0.0, use self.wv.similarity() instead).\n",
      "  This is separate from the ipykernel package so we can avoid doing imports until\n"
     ]
    },
    {
     "data": {
      "text/plain": [
       "0.9996324489714171"
      ]
     },
     "execution_count": 19,
     "metadata": {},
     "output_type": "execute_result"
    }
   ],
   "source": [
    "# Find cosine distance between two word vectors\n",
    "\n",
    "model.similarity('man','woman')"
   ]
  },
  {
   "cell_type": "code",
   "execution_count": 20,
   "metadata": {},
   "outputs": [
    {
     "name": "stderr",
     "output_type": "stream",
     "text": [
      "/anaconda3/lib/python3.6/site-packages/ipykernel_launcher.py:4: DeprecationWarning: Call to deprecated `n_similarity` (Method will be removed in 4.0.0, use self.wv.n_similarity() instead).\n",
      "  after removing the cwd from sys.path.\n"
     ]
    },
    {
     "data": {
      "text/plain": [
       "0.9999034795587899"
      ]
     },
     "execution_count": 20,
     "metadata": {},
     "output_type": "execute_result"
    }
   ],
   "source": [
    "# Find cosine distance between two clusters of word vectors\n",
    "# Each cluster is measured as the mean of its words\n",
    "\n",
    "model.n_similarity(['man','god'],['woman','god'])"
   ]
  },
  {
   "cell_type": "code",
   "execution_count": 21,
   "metadata": {},
   "outputs": [
    {
     "name": "stderr",
     "output_type": "stream",
     "text": [
      "/anaconda3/lib/python3.6/site-packages/ipykernel_launcher.py:4: DeprecationWarning: Call to deprecated `doesnt_match` (Method will be removed in 4.0.0, use self.wv.doesnt_match() instead).\n",
      "  after removing the cwd from sys.path.\n",
      "/anaconda3/lib/python3.6/site-packages/gensim/models/keyedvectors.py:730: FutureWarning: arrays to stack must be passed as a \"sequence\" type such as list or tuple. Support for non-sequence iterables such as generators is deprecated as of NumPy 1.16 and will raise an error in the future.\n",
      "  vectors = vstack(self.word_vec(word, use_norm=True) for word in used_words).astype(REAL)\n"
     ]
    },
    {
     "data": {
      "text/plain": [
       "'god'"
      ]
     },
     "execution_count": 21,
     "metadata": {},
     "output_type": "execute_result"
    }
   ],
   "source": [
    "# Finds mean vector of words in list\n",
    "# and identifies the word further from that mean\n",
    "\n",
    "model.doesnt_match(['man','woman', 'god'])"
   ]
  },
  {
   "cell_type": "code",
   "execution_count": 22,
   "metadata": {},
   "outputs": [
    {
     "name": "stderr",
     "output_type": "stream",
     "text": [
      "/anaconda3/lib/python3.6/site-packages/ipykernel_launcher.py:3: DeprecationWarning: Call to deprecated `most_similar` (Method will be removed in 4.0.0, use self.wv.most_similar() instead).\n",
      "  This is separate from the ipykernel package so we can avoid doing imports until\n"
     ]
    },
    {
     "data": {
      "text/plain": [
       "[('heaven', 0.9997588396072388),\n",
       " ('has', 0.999755859375),\n",
       " ('once', 0.9997355937957764),\n",
       " ('truth', 0.9997304081916809),\n",
       " ('then', 0.9997252821922302),\n",
       " ('very', 0.9997225999832153),\n",
       " ('which', 0.9997189044952393),\n",
       " ('dream', 0.9997180700302124),\n",
       " ('dead', 0.9997121095657349),\n",
       " ('year', 0.9997032284736633)]"
      ]
     },
     "execution_count": 22,
     "metadata": {},
     "output_type": "execute_result"
    }
   ],
   "source": [
    "# Most similar terms\n",
    "\n",
    "model.most_similar(positive=['man', 'god'], topn=10)"
   ]
  },
  {
   "cell_type": "code",
   "execution_count": 25,
   "metadata": {},
   "outputs": [
    {
     "name": "stderr",
     "output_type": "stream",
     "text": [
      "/anaconda3/lib/python3.6/site-packages/ipykernel_launcher.py:3: DeprecationWarning: Call to deprecated `most_similar` (Method will be removed in 4.0.0, use self.wv.most_similar() instead).\n",
      "  This is separate from the ipykernel package so we can avoid doing imports until\n"
     ]
    },
    {
     "data": {
      "text/plain": [
       "[('thing', 0.9995920658111572),\n",
       " ('good', 0.9995234608650208),\n",
       " ('one', 0.9995055198669434),\n",
       " ('such', 0.9994778633117676),\n",
       " ('time', 0.9994583129882812),\n",
       " ('just', 0.999457061290741),\n",
       " ('alone', 0.9994529485702515),\n",
       " ('talk', 0.9994369149208069),\n",
       " ('knows', 0.9994242787361145),\n",
       " ('im', 0.9994043111801147)]"
      ]
     },
     "execution_count": 25,
     "metadata": {},
     "output_type": "execute_result"
    }
   ],
   "source": [
    "# Vector arithmetic\n",
    "\n",
    "model.most_similar(positive=['man', 'god'], negative=['woman'], topn=10)"
   ]
  },
  {
   "cell_type": "code",
   "execution_count": 51,
   "metadata": {},
   "outputs": [
    {
     "name": "stderr",
     "output_type": "stream",
     "text": [
      "/anaconda3/lib/python3.6/site-packages/ipykernel_launcher.py:5: DeprecationWarning: Call to deprecated `most_similar` (Method will be removed in 4.0.0, use self.wv.most_similar() instead).\n",
      "  \"\"\"\n"
     ]
    }
   ],
   "source": [
    "# Let's do a simple visualization of a vector\n",
    "\n",
    "# Instantiate a vector\n",
    "\n",
    "god_vector = model.most_similar(positive=['god'], topn=20)\n",
    "\n",
    "# Just get words\n",
    "\n",
    "god_tokens = [token for token, weight in god_vector]\n"
   ]
  },
  {
   "cell_type": "code",
   "execution_count": 52,
   "metadata": {},
   "outputs": [
    {
     "name": "stderr",
     "output_type": "stream",
     "text": [
      "/anaconda3/lib/python3.6/site-packages/ipykernel_launcher.py:3: DeprecationWarning: Call to deprecated `__getitem__` (Method will be removed in 4.0.0, use self.wv.__getitem__() instead).\n",
      "  This is separate from the ipykernel package so we can avoid doing imports until\n"
     ]
    }
   ],
   "source": [
    "# Get the vector for each sampled word\n",
    "\n",
    "vectors = [model[word] for word in god_tokens] "
   ]
  },
  {
   "cell_type": "code",
   "execution_count": 96,
   "metadata": {},
   "outputs": [],
   "source": [
    "# Calculate distances among texts in vector space\n",
    "\n",
    "from sklearn.metrics import pairwise\n",
    "dist_matrix = pairwise.pairwise_distances(vectors, metric='cosine')\n"
   ]
  },
  {
   "cell_type": "code",
   "execution_count": 54,
   "metadata": {},
   "outputs": [],
   "source": [
    "# Multi-Dimensional Scaling\n",
    "\n",
    "from sklearn.manifold import MDS\n",
    "mds = MDS(n_components = 2, dissimilarity='precomputed')\n",
    "embeddings = mds.fit_transform(dist_matrix)"
   ]
  },
  {
   "cell_type": "code",
   "execution_count": 55,
   "metadata": {},
   "outputs": [
    {
     "data": {
      "image/png": "[encoded data removed]",
      "text/plain": [
       "<Figure size 1800x1800 with 1 Axes>"
      ]
     },
     "metadata": {},
     "output_type": "display_data"
    }
   ],
   "source": [
    "# Matplotlib\n",
    "\n",
    "_, ax = plt.subplots(figsize=(25,25))\n",
    "ax.scatter(embeddings[:,0], embeddings[:,1], alpha=0)\n",
    "for i in range(len(vectors)):\n",
    "    ax.annotate(god_tokens[i], ((embeddings[i,0], embeddings[i,1])))"
   ]
  },
  {
   "cell_type": "code",
   "execution_count": 71,
   "metadata": {},
   "outputs": [],
   "source": [
    "### Let's compare two word2vec models\n",
    "\n",
    "meta1 = meta1.dropna(axis=0, subset=['FILENAME'])\n",
    "meta2 = meta2.dropna(axis=0, subset=['FILENAME'])"
   ]
  },
  {
   "cell_type": "code",
   "execution_count": 72,
   "metadata": {},
   "outputs": [],
   "source": [
    "# Same process as above\n",
    "\n",
    "text_list1 = []\n",
    "\n",
    "# Iterate through filenames in metadata table\n",
    "for filename in meta1['FILENAME']:\n",
    "    \n",
    "    # Read in novel text as single string, make lowercase\n",
    "    with open(corpus + filename, 'r') as file_in:\n",
    "        text = file_in.read()\n",
    "    \n",
    "    # Add novel text as single string to master list\n",
    "    text_list1.append(text)\n",
    "    \n",
    "text_list2 = []\n",
    "\n",
    "for filename in meta2['FILENAME']:\n",
    "    \n",
    "    # Read in novel text as single string, make lowercase\n",
    "    with open(corpus + filename, 'r') as file_in:\n",
    "        text = file_in.read()\n",
    "    \n",
    "    # Add novel text as single string to master list\n",
    "    text_list2.append(text)\n",
    "    "
   ]
  },
  {
   "cell_type": "code",
   "execution_count": 74,
   "metadata": {},
   "outputs": [],
   "source": [
    "# Sentence tokenize\n",
    "\n",
    "sentences1 = [sentence for novel in text_list1 for sentence in sent_tokenize(novel)]\n",
    "\n",
    "sentences2 = [sentence for novel in text_list2 for sentence in sent_tokenize(novel)]"
   ]
  },
  {
   "cell_type": "code",
   "execution_count": 75,
   "metadata": {},
   "outputs": [],
   "source": [
    "# Word tokenize\n",
    "\n",
    "words_by_sentence1 = [fast_tokenize(sentence.lower()) for sentence in sentences1]\n",
    "words_by_sentence2 = [fast_tokenize(sentence.lower()) for sentence in sentences2]"
   ]
  },
  {
   "cell_type": "code",
   "execution_count": 90,
   "metadata": {},
   "outputs": [],
   "source": [
    "# Train word2vec models using CBOW\n",
    "\n",
    "model1 = gensim.models.Word2Vec(words_by_sentence1, size=100, window=5, \\\n",
    "                               min_count=5, sg=0, alpha=0.025, iter=5, batch_words=10000)\n",
    "\n",
    "model2 = gensim.models.Word2Vec(words_by_sentence2, size=100, window=5, \\\n",
    "                               min_count=5, sg=0, alpha=0.025, iter=5, batch_words=10000)"
   ]
  },
  {
   "cell_type": "code",
   "execution_count": 92,
   "metadata": {},
   "outputs": [],
   "source": [
    "# COMPARISON MODEL\n",
    "\n",
    "def measure_semantic_shift_by_neighborhood(model1,model2,word,k=25,verbose=False):\n",
    "\n",
    "\t# Import function for cosine distance\n",
    "\tfrom scipy.spatial.distance import cosine\n",
    "\t\n",
    "\t# Check that this word is present in both models\n",
    "\tif not word in model1.wv.vocab or not word in model2.wv.vocab:\n",
    "\t\tprint (\"!! Word %s not present in both models.\" % word)\n",
    "\t\treturn None\n",
    "\t\n",
    "\t# Get the two neighborhoods\n",
    "\tneighborhood1 = [w for w,c in model1.most_similar(positive=[word], topn=k)]\n",
    "\tneighborhood2 = [w for w,c in model2.most_similar(positive=[word], topn=k)]\n",
    "    \n",
    "    # If you want to create more robust vectors\n",
    "\t#neighborhood1 = [w for w,c in model1.most_similar(positive=[word, word2], negative=[word3, word4], topn=k)]\n",
    "\t#neighborhood2 = [w for w,c in model2.most_similar(positive=[word, word2], negative=[word3, word4], topn=k)]\n",
    "\t\n",
    "\t# Print?\n",
    "\tif verbose:\n",
    "\t\tprint ('>> Neighborhood of associations of the word \"%s\" in model1:' % word)\n",
    "\t\tprint (', '.join(neighborhood1))\n",
    "\t\tprint\n",
    "\t\tprint ('>> Neighborhood of associations of the word \"%s\" in model2:' % word)\n",
    "\t\tprint (', '.join(neighborhood2))\n",
    "\t\n",
    "\t# Get the 'meta' neighborhood (both combined)\n",
    "\tmeta_neighborhood = list(set(neighborhood1)|set(neighborhood2))\n",
    "\t\n",
    "\t# Filter the meta neighborhood so that it contains only words present in both models\n",
    "\tmeta_neighborhood = [w for w in meta_neighborhood if w in model1.wv.vocab and w in model2.wv.vocab]\n",
    "\t\n",
    "\t# For both models, get a similarity vector between the focus word and all of the words in the meta neighborhood\n",
    "\tvector1 = [model1.similarity(word,w) for w in meta_neighborhood]\n",
    "\tvector2 = [model2.similarity(word,w) for w in meta_neighborhood]\n",
    "\t\n",
    "\t# Compute the cosine distance *between* those similarity vectors\n",
    "\tdist=cosine(vector1,vector2)\n",
    "\t\n",
    "\t# Return this cosine distance -- a measure of the relative semantic shift for this word between these two models\n",
    "\treturn dist"
   ]
  },
  {
   "cell_type": "code",
   "execution_count": 93,
   "metadata": {},
   "outputs": [
    {
     "name": "stdout",
     "output_type": "stream",
     "text": [
      ">> Neighborhood of associations of the word \"god\" in model1:\n",
      "where, that, this, how, these, thy, when, one, nor, may, any, only, but, those, ye, who, made, about, still, so, mrs, here, us, make, it\n",
      ">> Neighborhood of associations of the word \"god\" in model2:\n",
      "where, down, he, who, us, to, this, that, how, when, for, these, one, about, feet, three, her, across, but, they, then, now, has, which, here\n"
     ]
    },
    {
     "name": "stderr",
     "output_type": "stream",
     "text": [
      "/anaconda3/lib/python3.6/site-packages/ipykernel_launcher.py:14: DeprecationWarning: Call to deprecated `most_similar` (Method will be removed in 4.0.0, use self.wv.most_similar() instead).\n",
      "  \n",
      "/anaconda3/lib/python3.6/site-packages/ipykernel_launcher.py:15: DeprecationWarning: Call to deprecated `most_similar` (Method will be removed in 4.0.0, use self.wv.most_similar() instead).\n",
      "  from ipykernel import kernelapp as app\n",
      "/anaconda3/lib/python3.6/site-packages/ipykernel_launcher.py:36: DeprecationWarning: Call to deprecated `similarity` (Method will be removed in 4.0.0, use self.wv.similarity() instead).\n",
      "/anaconda3/lib/python3.6/site-packages/ipykernel_launcher.py:37: DeprecationWarning: Call to deprecated `similarity` (Method will be removed in 4.0.0, use self.wv.similarity() instead).\n"
     ]
    },
    {
     "data": {
      "text/plain": [
       "2.149595201839105e-08"
      ]
     },
     "execution_count": 93,
     "metadata": {},
     "output_type": "execute_result"
    }
   ],
   "source": [
    "# Run model\n",
    "\n",
    "measure_semantic_shift_by_neighborhood(model1,model2, \"god\",k=25,verbose=True)"
   ]
  },
  {
   "cell_type": "code",
   "execution_count": 105,
   "metadata": {},
   "outputs": [
    {
     "name": "stderr",
     "output_type": "stream",
     "text": [
      "/anaconda3/lib/python3.6/site-packages/ipykernel_launcher.py:3: DeprecationWarning: Call to deprecated `most_similar` (Method will be removed in 4.0.0, use self.wv.most_similar() instead).\n",
      "  This is separate from the ipykernel package so we can avoid doing imports until\n",
      "/anaconda3/lib/python3.6/site-packages/ipykernel_launcher.py:11: DeprecationWarning: Call to deprecated `similarity` (Method will be removed in 4.0.0, use self.wv.similarity() instead).\n",
      "  # This is added back by InteractiveShellApp.init_path()\n",
      "/anaconda3/lib/python3.6/site-packages/ipykernel_launcher.py:15: DeprecationWarning: Call to deprecated `similarity` (Method will be removed in 4.0.0, use self.wv.similarity() instead).\n",
      "  from ipykernel import kernelapp as app\n"
     ]
    },
    {
     "data": {
      "text/plain": [
       "(20, 20)"
      ]
     },
     "execution_count": 105,
     "metadata": {},
     "output_type": "execute_result"
    }
   ],
   "source": [
    "### Words in relation to vectors\n",
    "\n",
    "god_terms = model.most_similar(positive=['god'], topn=20)\n",
    "god_terms = [word for word, score in god_terms]\n",
    "\n",
    "# MAN\n",
    "man_scores = []\n",
    "woman_scores = []\n",
    "\n",
    "for word in god_terms:\n",
    "    score = model.similarity(word, 'man')\n",
    "    man_scores.append(score)\n",
    "    \n",
    "for word in god_terms:\n",
    "    score = model.similarity(word, 'woman')\n",
    "    woman_scores.append(score)\n",
    "    \n",
    "len(man_scores), len(woman_scores)"
   ]
  },
  {
   "cell_type": "code",
   "execution_count": 130,
   "metadata": {},
   "outputs": [
    {
     "data": {
      "image/png": "[encoded data removed]",
      "text/plain": [
       "<Figure size 1800x1800 with 1 Axes>"
      ]
     },
     "metadata": {},
     "output_type": "display_data"
    }
   ],
   "source": [
    "# Simple plot\n",
    "\n",
    "plt.rcParams.update({'font.size': 12})\n",
    "_, ax = plt.subplots(figsize=(25, 25))\n",
    "ax.scatter(man_scores, woman_scores)\n",
    "plt.xlabel ('MAN')\n",
    "plt.ylabel ('WOMAN')\n",
    "\n",
    "for i, txt in enumerate(god_terms):\n",
    "    ax.annotate(txt, (man_scores[i], woman_scores[i]))"
   ]
  }
 ],
 "metadata": {
  "kernelspec": {
   "display_name": "Python 3",
   "language": "python",
   "name": "python3"
  },
  "language_info": {
   "codemirror_mode": {
    "name": "ipython",
    "version": 3
   },
   "file_extension": ".py",
   "mimetype": "text/x-python",
   "name": "python",
   "nbconvert_exporter": "python",
   "pygments_lexer": "ipython3",
   "version": "3.6.5"
  }
 },
 "nbformat": 4,
 "nbformat_minor": 2
}
